{
 "cells": [
  {
   "cell_type": "code",
   "execution_count": null,
   "id": "seasonal-uncle",
   "metadata": {},
   "outputs": [],
   "source": [
    "import argparse\n",
    "import os\n",
    "import sys\n",
    "from pathlib import Path\n",
    "import json\n",
    "\n",
    "\n",
    "def main(args):\n",
    "    parser = argparse.ArgumentParser(description='Returns sum of two arguments')\n",
    "    parser.add_argument(\"--read_name\", type=str, required=True) # List Item\n",
    "    args = parser.parse_args(args)\n",
    "    print(\"images:zjr123/read_op:test\")\n",
    "    # Path(args.read_path).parent.mkdir(parents=True, exist_ok=True)\n",
    "    path = json.loads(args.read_name) # string to list\n",
    "    # path = args.read_name\n",
    "    print(path)\n",
    "    for i in path:\n",
    "        with open(i, 'r') as f:\n",
    "            text = f.read()\n",
    "            print(text)\n",
    "            print(str(i))\n",
    "            f.close()\n",
    "\n",
    "\n",
    "if __name__ == '__main__':\n",
    "    main(sys.argv[1:])\n"
   ]
  }
 ],
 "metadata": {
  "kernelspec": {
   "display_name": "Python 3",
   "language": "python",
   "name": "python3"
  },
  "language_info": {
   "codemirror_mode": {
    "name": "ipython",
    "version": 3
   },
   "file_extension": ".py",
   "mimetype": "text/x-python",
   "name": "python",
   "nbconvert_exporter": "python",
   "pygments_lexer": "ipython3",
   "version": "3.8.8"
  }
 },
 "nbformat": 4,
 "nbformat_minor": 5
}
