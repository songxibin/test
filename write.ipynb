{
 "cells": [
  {
   "cell_type": "code",
   "execution_count": 4,
   "id": "clean-gather",
   "metadata": {},
   "outputs": [],
   "source": [
    "import os\n",
    "import sys\n",
    "from pathlib import Path\n",
    "\n",
    "\n",
    "def main():\n",
    "    name = os.environ.get(\"--name\")\n",
    "    print(name)\n",
    "    name_out = os.environ.get(\"--name_out\")\n",
    "    print(name_out)\n",
    "    path_pre = '/data/'\n",
    "    if not os.path.exists(path_pre):\n",
    "        os.makedirs(path_pre)\n",
    "    path = '{}{}'.format(path_pre, name)\n",
    "    print(\"Start to read...\")\n",
    "    print('path:', path)\n",
    "\n",
    "    with open(path, 'w') as f:\n",
    "        f.write('test!test')\n",
    "        print(\"successful write..\")\n",
    "\n",
    "        f.close()\n",
    "    Path(name_out).parent.mkdir(parents=True, exist_ok=True)\n",
    "    with open(name_out, 'w') as output_f:\n",
    "        output_f.write(path)\n",
    "main()"
   ]
  },
  {
   "cell_type": "code",
   "execution_count": null,
   "id": "satisfied-female",
   "metadata": {},
   "outputs": [],
   "source": []
  }
 ],
 "metadata": {
  "kernelspec": {
   "display_name": "Python 3",
   "language": "python",
   "name": "python3"
  },
  "language_info": {
   "codemirror_mode": {
    "name": "ipython",
    "version": 3
   },
   "file_extension": ".py",
   "mimetype": "text/x-python",
   "name": "python",
   "nbconvert_exporter": "python",
   "pygments_lexer": "ipython3",
   "version": "3.8.8"
  }
 },
 "nbformat": 4,
 "nbformat_minor": 5
}
