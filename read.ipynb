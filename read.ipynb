{
 "cells": [
  {
   "cell_type": "code",
   "execution_count": null,
   "id": "fourth-honduras",
   "metadata": {},
   "outputs": [],
   "source": [
    "import os\n",
    "import sys\n",
    "from pathlib import Path\n",
    "\n",
    "\n",
    "def main():\n",
    "    read_name = os.environ.get(\"--read_name\")\n",
    "    print(\"start to read...\")\n",
    "    # Path(args.read_path).parent.mkdir(parents=True, exist_ok=True)\n",
    "    path = read_name\n",
    "    # Path(read_name).parent.mkdir(parents=True, exist_ok=True)\n",
    "    # print(path)\n",
    "    with open(path, 'r') as f:\n",
    "        text = f.read()\n",
    "        print(text)\n",
    "        f.close()\n",
    "\n",
    "main()"
   ]
  }
 ],
 "metadata": {
  "kernelspec": {
   "display_name": "Python 3",
   "language": "python",
   "name": "python3"
  },
  "language_info": {
   "codemirror_mode": {
    "name": "ipython",
    "version": 3
   },
   "file_extension": ".py",
   "mimetype": "text/x-python",
   "name": "python",
   "nbconvert_exporter": "python",
   "pygments_lexer": "ipython3",
   "version": "3.8.8"
  }
 },
 "nbformat": 4,
 "nbformat_minor": 5
}
